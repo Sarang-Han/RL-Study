{
 "cells": [
  {
   "cell_type": "code",
   "execution_count": null,
   "metadata": {},
   "outputs": [],
   "source": [
    "%pip install tensorflow-macos tensorflow-metal # macOS용 tf 설치"
   ]
  },
  {
   "cell_type": "code",
   "execution_count": 10,
   "metadata": {},
   "outputs": [],
   "source": [
    "import tensorflow as tf\n",
    "\n",
    "# 데이터 불러오기\n",
    "mnist = tf.keras.datasets.fashion_mnist\n",
    "(x_train, y_train), (x_test, y_test) = mnist.load_data()\n",
    "\n",
    "# 0~255 범위의 픽셀값을 0~1 범위로 노멀라이즈\n",
    "x_train, x_test = x_train / 255.0, x_test / 255.0"
   ]
  },
  {
   "cell_type": "code",
   "execution_count": null,
   "metadata": {},
   "outputs": [],
   "source": [
    "from tensorflow.keras.layers import Dense # type: ignore\n",
    "from tensorflow.keras.optimizers import Adam # type: ignore\n",
    "\n",
    "# 신경망 모델 정의하기\n",
    "class Model(tf.keras.Model):\n",
    "    def __init__(self):\n",
    "        super(Model, self).__init__()\n",
    "        self.input_layer = Dense(256, activation='relu', input_shape=(784,))\n",
    "        self.hidden_layer = Dense(128, activation='relu')\n",
    "        self.output_layer = Dense(10, activation='softmax')\n",
    "        \n",
    "    def call(self, x):\n",
    "        x = self.input_layer(x)\n",
    "        x = self.hidden_layer(x)\n",
    "        x = self.output_layer(x)\n",
    "        return x\n",
    "\n",
    "model = Model()\n",
    "\n",
    "# 오류함수, 옵티마이저 정의하기\n",
    "cross_entropy = tf.keras.losses.SparseCategoricalCrossentropy(from_logits=False)\n",
    "optimizer = Adam(1e-4)\n"
   ]
  },
  {
   "cell_type": "code",
   "execution_count": 9,
   "metadata": {},
   "outputs": [
    {
     "name": "stdout",
     "output_type": "stream",
     "text": [
      "에폭 1/10 완료\n",
      "테스트 정확도: 0.8364\n",
      "에폭 2/10 완료\n",
      "테스트 정확도: 0.8522\n",
      "에폭 3/10 완료\n",
      "테스트 정확도: 0.8601\n",
      "에폭 4/10 완료\n",
      "테스트 정확도: 0.8654\n",
      "에폭 5/10 완료\n",
      "테스트 정확도: 0.8707\n",
      "에폭 6/10 완료\n",
      "테스트 정확도: 0.8743\n",
      "에폭 7/10 완료\n",
      "테스트 정확도: 0.8769\n",
      "에폭 8/10 완료\n",
      "테스트 정확도: 0.8771\n",
      "에폭 9/10 완료\n",
      "테스트 정확도: 0.8781\n",
      "에폭 10/10 완료\n",
      "테스트 정확도: 0.8811\n"
     ]
    }
   ],
   "source": [
    "# 미니배치 사이즈 설정\n",
    "batch_size = 32\n",
    "num_train_data = x_train.shape[0]\n",
    "num_test_data = x_test.shape[0]\n",
    "\n",
    "num_epochs = 10\n",
    "for e in range(num_epochs):\n",
    "    # 1 에포크 동안 훈련 진행\n",
    "    for i in range(num_train_data // batch_size):\n",
    "        # 미니배치 하나만큼 데이터 불러오기\n",
    "        x_batch = x_train[i*batch_size:(i+1)*batch_size]\n",
    "        y_batch = y_train[i*batch_size:(i+1)*batch_size]\n",
    "        \n",
    "        # (batch_size, 28, 28) -> (batch_size, 28*28)로 shape 변경\n",
    "        x_batch = x_batch.reshape(-1, 28*28)\n",
    "        \n",
    "        # 계산 과정을 기록하기 위해 tape scope 선언\n",
    "        model_params = model.trainable_variables  # Model -> model로 변경 (클래스가 아닌 인스턴스 사용)\n",
    "        with tf.GradientTape() as tape:\n",
    "            # 모델을 통한 예측\n",
    "            predicts = model(x_batch)  # Model -> model로 변경\n",
    "            # 오류 계산\n",
    "            losses = cross_entropy(y_batch, predicts)\n",
    "        # tape를 통한 그래디언트 계산\n",
    "        grads = tape.gradient(losses, model_params)\n",
    "        # 그래디언트를 통해 모델 업데이트\n",
    "        optimizer.apply_gradients(zip(grads, model_params))\n",
    "    \n",
    "    # 에폭 종료 시 진행 상황 출력\n",
    "    print(f\"에폭 {e+1}/{num_epochs} 완료\")\n",
    "    \n",
    "    # 에폭마다 테스트 정확도 확인 (선택 사항)\n",
    "    if (e+1) % 1 == 0:\n",
    "        # 테스트 데이터로 정확도 평가\n",
    "        test_batch = x_test.reshape(-1, 28*28)\n",
    "        test_preds = model(test_batch)\n",
    "        test_preds_classes = tf.argmax(test_preds, axis=1)\n",
    "        test_accuracy = tf.reduce_mean(tf.cast(tf.equal(test_preds_classes, y_test), tf.float32))\n",
    "        print(f\"테스트 정확도: {test_accuracy.numpy():.4f}\")"
   ]
  }
 ],
 "metadata": {
  "kernelspec": {
   "display_name": ".venv",
   "language": "python",
   "name": "python3"
  },
  "language_info": {
   "codemirror_mode": {
    "name": "ipython",
    "version": 3
   },
   "file_extension": ".py",
   "mimetype": "text/x-python",
   "name": "python",
   "nbconvert_exporter": "python",
   "pygments_lexer": "ipython3",
   "version": "3.9.6"
  }
 },
 "nbformat": 4,
 "nbformat_minor": 2
}
