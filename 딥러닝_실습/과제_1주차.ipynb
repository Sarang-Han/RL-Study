{
 "cells": [
  {
   "cell_type": "markdown",
   "metadata": {
    "id": "_vECysj7UNoM"
   },
   "source": [
    "### 딥러닝 실습 과제 1주차 - 데이터 전처리\n",
    "\n",
    "다음 세 가지 활동을 해봅시다.\n",
    "\n",
    "01. **이미지 & 레이블 로드**: JSON 파일과 이미지 데이터를 PyTorch Dataset 형식으로 변환\n",
    "02. **이미지 전처리**: 크기 조정, 정규화\n",
    "03. **학습/검증/테스트 데이터 분할**\n"
   ]
  },
  {
   "cell_type": "markdown",
   "metadata": {
    "id": "s3_fdD7Y2iY4"
   },
   "source": [
    "TTTDataset.zip을 불러와 문제에서 요하는 코드를 구현하세요.\n",
    "\n",
    "💡 **데이터 구조**  \n",
    "- **`image_black`** : 이미지 데이터  \n",
    "- **`labels`** : 타겟 데이터  "
   ]
  },
  {
   "cell_type": "code",
   "execution_count": 3,
   "metadata": {
    "id": "BhRH2q-fV8lc"
   },
   "outputs": [],
   "source": [
    "import torch\n",
    "from torch.utils.data import Dataset, DataLoader\n",
    "from torchvision import transforms\n",
    "from PIL import Image\n",
    "import json\n",
    "\n",
    "import glob\n",
    "import os"
   ]
  },
  {
   "cell_type": "markdown",
   "metadata": {
    "id": "MCpJfLtnagvV"
   },
   "source": [
    "#### 00. 클래스\n",
    "정의한 클래스를 이용해 실행해 주세요."
   ]
  },
  {
   "cell_type": "code",
   "execution_count": 4,
   "metadata": {
    "id": "Ymwd8gfCYHiq"
   },
   "outputs": [],
   "source": [
    "class TTTDataset(Dataset):\n",
    "    def __init__(self, image_paths, label_paths, transform=None):\n",
    "        \"\"\"\n",
    "        틱택토 데이터셋을 PyTorch Dataset 형태로 변환.\n",
    "        :param image_paths: 이미지 파일 경로 리스트\n",
    "        :param label_paths: 레이블 JSON 파일 경로 리스트\n",
    "        :param transform: 이미지 전처리 변환\n",
    "        \"\"\"\n",
    "        self.image_paths = image_paths\n",
    "        self.label_paths = label_paths\n",
    "        self.transform = transform\n",
    "        self.data = self._load_data()\n",
    "\n",
    "\n",
    "    def _load_data(self):\n",
    "        \"\"\" 이미지 & 레이블 로드 \"\"\"\n",
    "        data = []\n",
    "        for img_path, lbl_path in zip(self.image_paths, self.label_paths):\n",
    "            # 이미지를 흑백(Grayscale)로 변환\n",
    "            image = Image.open(img_path).convert(\"L\")  # \"RGB\" 대신 \"L\" 사용\n",
    "\n",
    "            # JSON 레이블 로드\n",
    "            with open(lbl_path, 'r') as f:\n",
    "                labels = json.load(f)\n",
    "\n",
    "            # 레이블을 숫자로 변환 (O=1, X=-1, blank=0)\n",
    "            label_tensor = torch.tensor(\n",
    "                [1 if v == \"O\" else -1 if v == \"X\" else 0 for v in labels.values()],\n",
    "                dtype=torch.float32\n",
    "            )\n",
    "            data.append((image, label_tensor))\n",
    "\n",
    "        return data\n",
    "\n",
    "\n",
    "    def __len__(self):\n",
    "        \"\"\" 데이터셋 크기 반환 \"\"\"\n",
    "        return len(self.data)\n",
    "\n",
    "\n",
    "    def __getitem__(self, idx):\n",
    "        \"\"\" 데이터셋에서 idx 번째 샘플(이미지 & 레이블)을 가져오는 역할 \"\"\"\n",
    "        image, label = self.data[idx]\n",
    "\n",
    "        if self.transform:\n",
    "            image = self.transform(image)\n",
    "\n",
    "        return image, label"
   ]
  },
  {
   "cell_type": "markdown",
   "metadata": {
    "id": "seQgBNd9aZNk"
   },
   "source": [
    "#### 01. 이미지 & 레이블 로드: JSON 파일과 이미지 데이터를 PyTorch Dataset 형식으로 변환\n",
    "\n",
    "import한 os와 glob 라이브러리를 이용해 모든 이미지와 레이블을 로드하였습니다.\n",
    "\n",
    "- `os`: 같은 폴더 안의 TTTDataset/ 경로를 가져오는데 쓰임.\n",
    "\n",
    "- `glob`: 데이터셋 내의 모든 *.jpg와 *.json 경로를 빠르게 찾는데 쓰임.\n",
    "\n",
    "또한 print를 통해 제대로 파일을 로드했는지 확인하였습니다."
   ]
  },
  {
   "cell_type": "code",
   "execution_count": 5,
   "metadata": {},
   "outputs": [
    {
     "name": "stdout",
     "output_type": "stream",
     "text": [
      "이미지 파일 수: 365\n",
      "라벨 파일 수: 453\n",
      "첫 번째 이미지 경로: TTTDataset/image_black/01.jpg\n",
      "첫 번째 레이블 경로: TTTDataset/labels/01_labels.json\n"
     ]
    }
   ],
   "source": [
    "# 01. 이미지와 레이블 파일 경로 로드\n",
    "image_dir = os.path.join(\"TTTDataset\", \"image_black\")\n",
    "labels_dir = os.path.join(\"TTTDataset\", \"labels\")\n",
    "\n",
    "# 모든 이미지와 라벨 파일의 경로 가져오기\n",
    "image_paths = sorted(glob.glob(os.path.join(image_dir, \"*.jpg\")))\n",
    "label_paths = sorted(glob.glob(os.path.join(labels_dir, \"*.json\")))\n",
    "\n",
    "print(f\"이미지 파일 수: {len(image_paths)}\")\n",
    "print(f\"라벨 파일 수: {len(label_paths)}\")\n",
    "print(f\"첫 번째 이미지 경로: {image_paths[0]}\")\n",
    "print(f\"첫 번째 레이블 경로: {label_paths[0]}\")"
   ]
  },
  {
   "cell_type": "markdown",
   "metadata": {
    "id": "DYVGt8R27tXu"
   },
   "source": [
    "#### 02. 이미지 전처리: 크기 조정, 정규화\n",
    "\n",
    "모델 학습에 앞서, 이미지 데이터를 적절히 처리하는 코드입니다.\n",
    "\n",
    "- **이미지 크기 통일** : 일반적인 CNN 구조에서 사용하는 고정 입력 크기인 224*224로 변환함.\n",
    "\n",
    "- **텐서 변환** : PIL 이미지 (0-255 픽셀값)을 PyTorch 텐서 (0-1 범위)로 변환함.\n",
    "\n",
    "- **정규화** : 흑백 이미지 데이터를 -1 ~ 1 범위로 변환함.\n",
    "\n",
    "또한 첫 번째 이미지에 처리를 적용하여 확인하는 코드를 추가하였습니다."
   ]
  },
  {
   "cell_type": "code",
   "execution_count": 6,
   "metadata": {
    "id": "X7HxQagK7vJ3"
   },
   "outputs": [
    {
     "name": "stdout",
     "output_type": "stream",
     "text": [
      "원본 이미지 크기: (512, 512)\n",
      "전처리 후 텐서 크기: torch.Size([1, 224, 224])\n",
      "텐서 값 범위: -1.0000 ~ 1.0000\n"
     ]
    }
   ],
   "source": [
    "# 2. 이미지 전처리를 위한 transform 정의\n",
    "transform = transforms.Compose([\n",
    "    transforms.Resize((224, 224)),               # 이미지 크기 조정\n",
    "    transforms.ToTensor(),                       # PIL 이미지를 텐서로 변환 (0-255 → 0-1)\n",
    "    transforms.Normalize(mean=[0.5], std=[0.5])  # 흑백 이미지 정규화 (-1 ~ 1)\n",
    "])\n",
    "\n",
    "# 전처리가 잘 되는지 확인하기 - 첫 번째 이미지에 적용\n",
    "sample_image = Image.open(image_paths[0]).convert(\"L\")\n",
    "processed_image = transform(sample_image)\n",
    "print(f\"원본 이미지 크기: {sample_image.size}\")\n",
    "print(f\"전처리 후 텐서 크기: {processed_image.shape}\")\n",
    "print(f\"텐서 값 범위: {processed_image.min():.4f} ~ {processed_image.max():.4f}\")"
   ]
  },
  {
   "cell_type": "markdown",
   "metadata": {
    "id": "ugSpuxB27va_"
   },
   "source": [
    "#### 03. 학습 / 검증 / 테스트 데이터 분할\n",
    "\n",
    "전체 데이터셋을 학습(train), 검증(validation), 테스트(test) 세트로 분할하는 코드입니다.\n",
    "\n",
    "1. 먼저, 앞서 정의한 TTTDataset 클래스를 사용하여 **전체 데이터셋**을 생성함.\n",
    "\n",
    "2. 다음으로 **데이터 분할 비율을 설정**함. 학습 70%, 검증 15%, 테스트 15% 비율로 설정함.\n",
    "\n",
    "3. 전체 데이터셋 크기 기준으로 설정한 비율대로 **각 데이터 크기를 계산**함.\n",
    "\n",
    "4. random_split 함수를 이용하여 데이터셋을 **무작위로 분할**함.\n",
    "\n",
    "5. 마지막으로, **각 데이터셋의 크기를 출력**하여 잘 분할되었는지 확인함."
   ]
  },
  {
   "cell_type": "code",
   "execution_count": 7,
   "metadata": {
    "id": "C5PlAG2P70N6"
   },
   "outputs": [
    {
     "name": "stdout",
     "output_type": "stream",
     "text": [
      "전체 데이터셋 크기: 365\n",
      "학습 데이터셋 크기: 255\n",
      "검증 데이터셋 크기: 54\n",
      "테스트 데이터셋 크기: 56\n"
     ]
    }
   ],
   "source": [
    "from torch.utils.data import random_split\n",
    "\n",
    "# 전체 데이터셋 생성\n",
    "full_dataset = TTTDataset(image_paths, label_paths, transform=transform)\n",
    "\n",
    "# 데이터 분할 비율 설정\n",
    "train_ratio = 0.7\n",
    "val_ratio = 0.15\n",
    "test_ratio = 0.15\n",
    "\n",
    "# 전체 데이터 개수\n",
    "total_size = len(full_dataset)\n",
    "train_size = int(total_size * train_ratio)\n",
    "val_size = int(total_size * val_ratio)\n",
    "test_size = total_size - train_size - val_size\n",
    "\n",
    "# 데이터셋 분할\n",
    "train_dataset, val_dataset, test_dataset = random_split(\n",
    "    full_dataset, \n",
    "    [train_size, val_size, test_size]\n",
    ")\n",
    "\n",
    "# 분할된 데이터셋 정보 출력\n",
    "print(f\"전체 데이터셋 크기: {total_size}\")\n",
    "print(f\"학습 데이터셋 크기: {len(train_dataset)}\")\n",
    "print(f\"검증 데이터셋 크기: {len(val_dataset)}\")\n",
    "print(f\"테스트 데이터셋 크기: {len(test_dataset)}\")"
   ]
  }
 ],
 "metadata": {
  "accelerator": "GPU",
  "colab": {
   "gpuType": "T4",
   "provenance": [
    {
     "file_id": "14ZlpYTi-ZfAEwvw631uncKOkEFufFwbB",
     "timestamp": 1742207411682
    }
   ]
  },
  "kernelspec": {
   "display_name": ".venv",
   "language": "python",
   "name": "python3"
  },
  "language_info": {
   "codemirror_mode": {
    "name": "ipython",
    "version": 3
   },
   "file_extension": ".py",
   "mimetype": "text/x-python",
   "name": "python",
   "nbconvert_exporter": "python",
   "pygments_lexer": "ipython3",
   "version": "3.9.6"
  }
 },
 "nbformat": 4,
 "nbformat_minor": 0
}
